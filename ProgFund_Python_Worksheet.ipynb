{
  "nbformat": 4,
  "nbformat_minor": 0,
  "metadata": {
    "colab": {
      "name": "ProgFund Python Worksheet.ipynb",
      "provenance": [],
      "authorship_tag": "ABX9TyOuEfnGNipPdcH9YuA09lJb",
      "include_colab_link": true
    },
    "kernelspec": {
      "name": "python3",
      "display_name": "Python 3"
    }
  },
  "cells": [
    {
      "cell_type": "markdown",
      "metadata": {
        "id": "view-in-github",
        "colab_type": "text"
      },
      "source": [
        "<a href=\"https://colab.research.google.com/github/andyholyer/ProgrammingFundamentals/blob/master/ProgFund_Python_Worksheet.ipynb\" target=\"_parent\"><img src=\"https://colab.research.google.com/assets/colab-badge.svg\" alt=\"Open In Colab\"/></a>"
      ]
    },
    {
      "cell_type": "markdown",
      "metadata": {
        "id": "e8VjHhL05RBi",
        "colab_type": "text"
      },
      "source": [
        "# Programming Fundamentals Introduction to Python\n",
        "This worksheet will allow you to get a start at programming in Python without having to install anything on your computer (yet).\n",
        "It consists of text blocks (like this one), and code blocks (like the one below).\n",
        "\n",
        "Code blocks contain Python code: you can run the Python code by clicking the Run button to the left hand side of the python code. You can change the Python code and run it again. When you have completed all the code sections in this document you will have completed the first set of exercises for this module.\n",
        "\n",
        "Try it now: "
      ]
    },
    {
      "cell_type": "code",
      "metadata": {
        "id": "2FAcyNix5Od2",
        "colab_type": "code",
        "colab": {}
      },
      "source": [
        "print(\"Hello World\")"
      ],
      "execution_count": null,
      "outputs": []
    },
    {
      "cell_type": "markdown",
      "metadata": {
        "id": "O7EaL0OopXZs",
        "colab_type": "text"
      },
      "source": [
        "You should see `Hello World` printed out.\n",
        "\n",
        "Now edit the red text in quotes to say something else, (like \"Hello Andy\"). \n",
        "\n",
        "Press the run button again.\n"
      ]
    },
    {
      "cell_type": "markdown",
      "metadata": {
        "id": "kC7mOzuN-aZV",
        "colab_type": "text"
      },
      "source": [
        "You can use Python to do calculations:"
      ]
    },
    {
      "cell_type": "code",
      "metadata": {
        "id": "EAUhwhJWcpJH",
        "colab_type": "code",
        "colab": {}
      },
      "source": [
        "2+2"
      ],
      "execution_count": null,
      "outputs": []
    },
    {
      "cell_type": "markdown",
      "metadata": {
        "id": "ncz2fSIv-kuZ",
        "colab_type": "text"
      },
      "source": [
        "This expression is a lot more complicated, but Python is still happy to work it out:\n",
        "\n",
        "$\\frac{(7.8165^5 + 8.179)}{(9.54 - 1.73)}$"
      ]
    },
    {
      "cell_type": "code",
      "metadata": {
        "id": "_wOaNRGz-nRI",
        "colab_type": "code",
        "colab": {}
      },
      "source": [
        "(7.8165**5 + 8.79)/(9.54 - 1.73)"
      ],
      "execution_count": null,
      "outputs": []
    },
    {
      "cell_type": "markdown",
      "metadata": {
        "id": "U77VYEmrRzOP",
        "colab_type": "text"
      },
      "source": [
        "Try changing the values in the two sums above, and then hitting the run button again.\n",
        "\n",
        "\n",
        "---\n",
        "\n"
      ]
    },
    {
      "cell_type": "markdown",
      "metadata": {
        "id": "jjG_0MDNGjfK",
        "colab_type": "text"
      },
      "source": [
        "One of the best things about Python is that you always have the compiler available. When you have Python installed on your own computer (we'll do this in a few weeks) you can run an interactive session from a terminal widow.\n",
        "\n",
        "Here in Google Colab, you can try out things in a code cell. When you're writing Python, the correct thing to do is to try thnig sout to check if you're doing things right (so if you're not quite sure if you've remembered the correct syntax for a loop, say, then write a little bit of Pyton and try it out to check that it does what you want it to do.\n",
        "\n",
        "The code block below this is for you to use to try things out. Think of it as your Rough notebook:"
      ]
    },
    {
      "cell_type": "code",
      "metadata": {
        "id": "jNaB117hHtGY",
        "colab_type": "code",
        "cellView": "both",
        "colab": {}
      },
      "source": [
        "# Type in little fragments of python in this code block and try them out as you go along\n",
        "\n"
      ],
      "execution_count": null,
      "outputs": []
    },
    {
      "cell_type": "markdown",
      "metadata": {
        "id": "2EEgIsV9STx5",
        "colab_type": "text"
      },
      "source": [
        "This is a *test cell*. If you run it, it will tell you if you've got the right answers in your work below:"
      ]
    },
    {
      "cell_type": "code",
      "metadata": {
        "id": "W9vJ8bKUSozM",
        "colab_type": "code",
        "cellView": "form",
        "colab": {}
      },
      "source": [
        "#@title Test how you are doing with this worksheet\n",
        "\n",
        "import os\n",
        "import sys\n",
        "f = open(os.devnull, 'w')\n",
        "old_stderr = sys.stderr\n",
        "sys.stderr = f\n",
        "\n",
        "!pip install html-TestRunner\n",
        "\n",
        "import HtmlTestRunner\n",
        "import unittest\n",
        "\n",
        "class Test1NameMethods(unittest.TestCase):\n",
        "\n",
        "  def test_1_student_id(self):\n",
        "    self.assertNotEqual(\n",
        "        student_id(),\n",
        "        \"UP654321\", \n",
        "        \"Change the function 'student_id' so that it has your UP number, not the one originally in there\"\n",
        "    )\n",
        "\n",
        "  def test_2_givenname(self):\n",
        "    self.assertNotEqual(givenname(),\"Replace this with your given name\", \"Edit the function 'givenname' so that it returns your given (christian, first) name\")\n",
        "\n",
        "  def test_3_surname(self):\n",
        "    self.assertNotEqual(surname(), \"Replace this with your Surname\", \"Edit the function 'surname' so that it returns your surname (last name, family name)\")\n",
        "\n",
        "class Test2DataMethods(unittest.TestCase):\n",
        "\n",
        "  def test_4_dataAdd(self):\n",
        "    self.assertTrue(\n",
        "        \"add\" in dir(),\n",
        "        \"Create an 'add' function which takes two parameters and returns their sum\"\n",
        "    )\n",
        "\n",
        "    self.assertEqual(\n",
        "        add(7,17),\n",
        "        24\n",
        "    )\n",
        "    self.assertEqual(\n",
        "        add(-7,-17),\n",
        "\n",
        "    )\n",
        "\n",
        "test_report = open(\"test_report.html\", mode=\"w\")\n",
        "\n",
        "import  ipywidgets as widgets\n",
        "from IPython.display import display\n",
        "button = widgets.Button(\n",
        "    description=\"Run Unit Tests\\non what I've done so far\",\n",
        "    style= {'description_width': 'initial'}\n",
        "    )\n",
        "output= widgets.Output()\n",
        "\n",
        "def on_button_clicked(b):\n",
        "  # Display the message within the output widget.\n",
        "  output.clear_output()\n",
        "  with output:\n",
        "    unittest.main(\n",
        "      argv=['ignored'],  \n",
        "      verbosity=0, \n",
        "      exit=False,\n",
        "      testRunner=HtmlTestRunner.HTMLTestRunner(\n",
        "          output='./reports/', \n",
        "          add_timestamp=False, \n",
        "          combine_reports=True, \n",
        "          open_in_browser=True, \n",
        "          #stream=test_report\n",
        "        )\n",
        "    )\n",
        "  \n",
        "  with open( './reports/TestResults_Test1NameMethods_Test2DataMethods.html', \"r\") as html_file:\n",
        "    html = html_file.read()\n",
        "\n",
        "  from IPython.core.display import display, HTML\n",
        "\n",
        "  display( HTML(html))\n",
        "\n",
        "button.on_click(on_button_clicked)\n",
        "display(button, output)\n",
        "\n",
        "f.close()\n",
        "sys.stderr=old_stderr\n",
        "\n"
      ],
      "execution_count": null,
      "outputs": []
    },
    {
      "cell_type": "markdown",
      "metadata": {
        "id": "-0dXyKAGJjXG",
        "colab_type": "text"
      },
      "source": [
        "\n",
        "For the rest of this worksheet edit the functions below so that the test function succeeds.You wil need to add new def statements for later functions."
      ]
    },
    {
      "cell_type": "code",
      "metadata": {
        "id": "rB_tPrdFCSi9",
        "colab_type": "code",
        "colab": {}
      },
      "source": [
        "def student_id():\n",
        "  \"\"\"Edit this so that it returns your UPnnnnn number\"\"\"\n",
        "  return(\"UP654323\")\n",
        "\n",
        "def givenname():\n",
        "  \"\"\"Return your Given name (first name etc.)\"\"\"\n",
        "  return(\"Replace this with your given name\")\n",
        "\n",
        "def surname():\n",
        "  \"\"\"Return your Surname\"\"\"\n",
        "  return(\"Replace this with your Surname\")\n",
        "\n",
        "def add( x, y):\n",
        "  \"\"\"Create an add function which accepts two parameters and returns their sum\"\"\"\n",
        "  return(x + y)\n"
      ],
      "execution_count": 1,
      "outputs": []
    }
  ]
}