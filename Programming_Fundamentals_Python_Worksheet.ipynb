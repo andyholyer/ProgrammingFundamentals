{
  "nbformat": 4,
  "nbformat_minor": 0,
  "metadata": {
    "colab": {
      "name": "Programming Fundamentals  Python Worksheet.ipynb",
      "provenance": [],
      "authorship_tag": "ABX9TyMjk16/EU7mbOeTO9grIHI8",
      "include_colab_link": true
    },
    "kernelspec": {
      "name": "python3",
      "display_name": "Python 3"
    },
    "widgets": {
      "application/vnd.jupyter.widget-state+json": {
        "173f08cef42549e0a124c07775a4a6c9": {
          "model_module": "@jupyter-widgets/controls",
          "model_name": "ButtonModel",
          "state": {
            "_view_name": "ButtonView",
            "style": "IPY_MODEL_fbe1c140bb20488aa53ebe6232b097e8",
            "_dom_classes": [],
            "description": "Run Tests",
            "_model_name": "ButtonModel",
            "button_style": "",
            "_view_module": "@jupyter-widgets/controls",
            "_model_module_version": "1.5.0",
            "tooltip": "",
            "_view_count": null,
            "disabled": false,
            "_view_module_version": "1.5.0",
            "layout": "IPY_MODEL_58cf6e30d0464f16a576ba04b8cba0b1",
            "_model_module": "@jupyter-widgets/controls",
            "icon": ""
          }
        },
        "fbe1c140bb20488aa53ebe6232b097e8": {
          "model_module": "@jupyter-widgets/controls",
          "model_name": "ButtonStyleModel",
          "state": {
            "_view_name": "StyleView",
            "_model_name": "ButtonStyleModel",
            "_view_module": "@jupyter-widgets/base",
            "_model_module_version": "1.5.0",
            "_view_count": null,
            "button_color": null,
            "font_weight": "",
            "_view_module_version": "1.2.0",
            "_model_module": "@jupyter-widgets/controls"
          }
        },
        "58cf6e30d0464f16a576ba04b8cba0b1": {
          "model_module": "@jupyter-widgets/base",
          "model_name": "LayoutModel",
          "state": {
            "_view_name": "LayoutView",
            "grid_template_rows": null,
            "right": null,
            "justify_content": null,
            "_view_module": "@jupyter-widgets/base",
            "overflow": null,
            "_model_module_version": "1.2.0",
            "_view_count": null,
            "flex_flow": null,
            "width": null,
            "min_width": null,
            "border": null,
            "align_items": null,
            "bottom": null,
            "_model_module": "@jupyter-widgets/base",
            "top": null,
            "grid_column": null,
            "overflow_y": null,
            "overflow_x": null,
            "grid_auto_flow": null,
            "grid_area": null,
            "grid_template_columns": null,
            "flex": null,
            "_model_name": "LayoutModel",
            "justify_items": null,
            "grid_row": null,
            "max_height": null,
            "align_content": null,
            "visibility": null,
            "align_self": null,
            "height": null,
            "min_height": null,
            "padding": null,
            "grid_auto_rows": null,
            "grid_gap": null,
            "max_width": null,
            "order": null,
            "_view_module_version": "1.2.0",
            "grid_template_areas": null,
            "object_position": null,
            "object_fit": null,
            "grid_auto_columns": null,
            "margin": null,
            "display": null,
            "left": null
          }
        },
        "e98f694a409f4573939aba0c641eb2cf": {
          "model_module": "@jupyter-widgets/output",
          "model_name": "OutputModel",
          "state": {
            "_view_name": "OutputView",
            "msg_id": "",
            "_dom_classes": [],
            "_model_name": "OutputModel",
            "outputs": [],
            "_view_module": "@jupyter-widgets/output",
            "_model_module_version": "1.0.0",
            "_view_count": null,
            "_view_module_version": "1.0.0",
            "layout": "IPY_MODEL_eb21dd16f1b34a64af3316c08b2fdd45",
            "_model_module": "@jupyter-widgets/output"
          }
        },
        "eb21dd16f1b34a64af3316c08b2fdd45": {
          "model_module": "@jupyter-widgets/base",
          "model_name": "LayoutModel",
          "state": {
            "_view_name": "LayoutView",
            "grid_template_rows": null,
            "right": null,
            "justify_content": null,
            "_view_module": "@jupyter-widgets/base",
            "overflow": null,
            "_model_module_version": "1.2.0",
            "_view_count": null,
            "flex_flow": null,
            "width": null,
            "min_width": null,
            "border": null,
            "align_items": null,
            "bottom": null,
            "_model_module": "@jupyter-widgets/base",
            "top": null,
            "grid_column": null,
            "overflow_y": null,
            "overflow_x": null,
            "grid_auto_flow": null,
            "grid_area": null,
            "grid_template_columns": null,
            "flex": null,
            "_model_name": "LayoutModel",
            "justify_items": null,
            "grid_row": null,
            "max_height": null,
            "align_content": null,
            "visibility": null,
            "align_self": null,
            "height": null,
            "min_height": null,
            "padding": null,
            "grid_auto_rows": null,
            "grid_gap": null,
            "max_width": null,
            "order": null,
            "_view_module_version": "1.2.0",
            "grid_template_areas": null,
            "object_position": null,
            "object_fit": null,
            "grid_auto_columns": null,
            "margin": null,
            "display": null,
            "left": null
          }
        }
      }
    }
  },
  "cells": [
    {
      "cell_type": "markdown",
      "metadata": {
        "id": "view-in-github",
        "colab_type": "text"
      },
      "source": [
        "<a href=\"https://colab.research.google.com/github/andyholyer/ProgrammingFundamentals/blob/master/Programming_Fundamentals_Python_Worksheet.ipynb\" target=\"_parent\"><img src=\"https://colab.research.google.com/assets/colab-badge.svg\" alt=\"Open In Colab\"/></a>"
      ]
    },
    {
      "cell_type": "markdown",
      "metadata": {
        "id": "e8VjHhL05RBi",
        "colab_type": "text"
      },
      "source": [
        "# Programming Fundamentals Introduction to Python\n",
        "This worksheet will allow you to get a start at programming in Python without having to install anything on your computer (yet).\n",
        "It consists of text blocks (like this one), and code blocks (like the one below).\n",
        "\n",
        "Code blocks contain Python code: you can run the Python code by clicking the Run button to the left hand side of the python code. You can change the Python code and run it again. When you have completed all the code sections in this document you will have completed the first set of exercises for this module.\n",
        "\n",
        "Try it now: "
      ]
    },
    {
      "cell_type": "code",
      "metadata": {
        "id": "2FAcyNix5Od2",
        "colab_type": "code",
        "colab": {}
      },
      "source": [
        "print(\"Hello World\")"
      ],
      "execution_count": null,
      "outputs": []
    },
    {
      "cell_type": "markdown",
      "metadata": {
        "id": "O7EaL0OopXZs",
        "colab_type": "text"
      },
      "source": [
        "You should see `Hello World` printed out.\n",
        "\n",
        "Now edit the red text in quotes to say something else, (like \"Hello Andy\"). \n",
        "\n",
        "Press the run button again.\n"
      ]
    },
    {
      "cell_type": "markdown",
      "metadata": {
        "id": "kC7mOzuN-aZV",
        "colab_type": "text"
      },
      "source": [
        "You can use Python to do calculations:"
      ]
    },
    {
      "cell_type": "code",
      "metadata": {
        "id": "EAUhwhJWcpJH",
        "colab_type": "code",
        "colab": {}
      },
      "source": [
        "2+2"
      ],
      "execution_count": null,
      "outputs": []
    },
    {
      "cell_type": "markdown",
      "metadata": {
        "id": "ncz2fSIv-kuZ",
        "colab_type": "text"
      },
      "source": [
        "This expression is a lot more complicated, but Python is still happy to work it out:\n",
        "\n",
        "$\\frac{(7.8165^5 + 8.179)}{(9.54 - 1.73)}$"
      ]
    },
    {
      "cell_type": "code",
      "metadata": {
        "id": "_wOaNRGz-nRI",
        "colab_type": "code",
        "colab": {}
      },
      "source": [
        "(7.8165**5 + 8.79)/(9.54 - 1.73)"
      ],
      "execution_count": null,
      "outputs": []
    },
    {
      "cell_type": "markdown",
      "metadata": {
        "id": "U77VYEmrRzOP",
        "colab_type": "text"
      },
      "source": [
        "Try changing the values in the two sums above, and then hitting the run button again.\n",
        "\n",
        "\n",
        "---\n",
        "\n"
      ]
    },
    {
      "cell_type": "markdown",
      "metadata": {
        "id": "jjG_0MDNGjfK",
        "colab_type": "text"
      },
      "source": [
        "One of the best things about Python is that you always have the compiler available. When you have Python installed on your own computer (we'll do this in a few weeks) you can run an interactive session from a terminal widow.\n",
        "\n",
        "Here in Google Colab, you can try out things in a code cell. When you're writing Python, the correct thing to do is to try thnig sout to check if you're doing things right (so if you're not quite sure if you've remembered the correct syntax for a loop, say, then write a little bit of Pyton and try it out to check that it does what you want it to do.\n",
        "\n",
        "The code block below this is for you to use to try things out. Think of it as your Rough notebook:"
      ]
    },
    {
      "cell_type": "code",
      "metadata": {
        "id": "jNaB117hHtGY",
        "colab_type": "code",
        "cellView": "both",
        "colab": {}
      },
      "source": [
        "# Type in any little fragments of python in this code block and try them out as you go along\n"
      ],
      "execution_count": null,
      "outputs": []
    },
    {
      "cell_type": "markdown",
      "metadata": {
        "id": "-0dXyKAGJjXG",
        "colab_type": "text"
      },
      "source": [
        "The cell below this is where you put the python code to complete this worksheet.\n",
        "\n",
        "I've filled in the first three functions - all you need to do is to put the right values for you in them, and you're done.\n",
        "\n",
        "Then I've given you the basic definition of the next function - you will need to write the python code to get it to do the right thing.\n",
        "\n",
        "As you go along you will need to add other functions in this cell.\n",
        "\n",
        "Run the cell, then look further down the sheet to find a unit test cell to see how you're doing."
      ]
    },
    {
      "cell_type": "code",
      "metadata": {
        "id": "rB_tPrdFCSi9",
        "colab_type": "code",
        "colab": {}
      },
      "source": [
        "# This is where you should put the function definitions for your work\n",
        "\n",
        "#=========================== Fill in your personal details in these functions ==========================\n",
        "def student_id():\n",
        "  \"\"\"Edit this so that it returns your UPnnnnn number\"\"\"\n",
        "  return(\"UP654321\")\n",
        "\n",
        "def givenname():\n",
        "  \"\"\"Return your Given name (first name etc.)\"\"\"\n",
        "  return(\"Replace this with your given name\")\n",
        "\n",
        "def surname():\n",
        "  \"\"\"Return your Surname\"\"\"\n",
        "  return(\"Replace this with your Surname\")\n",
        "\n",
        "#=========================== The next few functions are to get you used to defining functions ==========\n",
        "#=========================== You will need to add the definitions after the first one ==================\n",
        "def add( x, y):\n",
        "  \"\"\"Create an add function which accepts two parameters and returns their sum\"\"\"\n",
        "  \n"
      ],
      "execution_count": 17,
      "outputs": []
    },
    {
      "cell_type": "markdown",
      "metadata": {
        "id": "2EEgIsV9STx5",
        "colab_type": "text"
      },
      "source": [
        "# Unit Testing\n",
        "\n",
        "The cell below runs *Unit Tests* on the functions defined in the worksheet. Unit testing is a powerful tool for making your code more more reliable and easier to maintain.\n",
        "We will be looking at Unit Testing in more detail later on in this module.\n",
        "\n",
        "*I've hidden the code in the cell to make it clearer (thuogh there's no real reason why you can't look at the code if you really want to - but it probably won't help you solve the problems on the sheet, and the code is a lot more complex than you're probably used to - yet*\n",
        "\n",
        "Click the \"run\" button and you'll see a button labelled \"Run Tests\". Click this button, and after a little while you'll see a table giving the results of the tests\n",
        "\n",
        "The first time you run this, you'll just get a whole list of failed tests - don't panic! Just go back to the cell above this, modify your function (don't forget to run the cell again!) and try again. There's no problem with running the tests repeatedly - as long as it takes you further towards solving your problem.\n",
        "\n",
        "Once you have a whole page of green lights, you've finished the worksheet."
      ]
    },
    {
      "cell_type": "code",
      "metadata": {
        "id": "W9vJ8bKUSozM",
        "colab_type": "code",
        "cellView": "form",
        "colab": {
          "base_uri": "https://localhost:8080/",
          "height": 49,
          "referenced_widgets": [
            "173f08cef42549e0a124c07775a4a6c9",
            "fbe1c140bb20488aa53ebe6232b097e8",
            "58cf6e30d0464f16a576ba04b8cba0b1",
            "e98f694a409f4573939aba0c641eb2cf",
            "eb21dd16f1b34a64af3316c08b2fdd45"
          ]
        },
        "outputId": "a464bde9-fa95-4f24-92f8-0f76718a8bc8"
      },
      "source": [
        "#@title Test how you are doing with this worksheet\n",
        "\n",
        "!pip install html-TestRunner --quiet\n",
        "\n",
        "import inspect\n",
        "import HtmlTestRunner\n",
        "import unittest\n",
        "import sys\n",
        "\n",
        "class Test1NameMethods(unittest.TestCase):\n",
        "\n",
        "  def test_1_student_id(self):\n",
        "    self.assertNotEqual(\n",
        "        student_id(),\n",
        "        \"UP654321\", \n",
        "        \"Change the function 'student_id' so that it has your UP number, not the one originally in there\"\n",
        "    )\n",
        "\n",
        "  def test_2_givenname(self):\n",
        "    self.assertNotEqual(givenname(),\"Replace this with your given name\", \"Edit the function 'givenname' so that it returns your given (christian, first) name\")\n",
        "\n",
        "  def test_3_surname(self):\n",
        "    self.assertNotEqual(surname(), \"Replace this with your Surname\", \"Edit the function 'surname' so that it returns your surname (last name, family name)\")\n",
        "\n",
        "class Test2DataMethods(unittest.TestCase):\n",
        "\n",
        "  def test_4_dataAdd(self):\n",
        "    self.assertIs(\n",
        "        hasattr(sys.modules['__main__'], \"add\") and inspect.isfunction(add), \n",
        "        True,\n",
        "        \"Create an 'add' function which takes two parameters and returns their sum\"\n",
        "    )\n",
        "    self.assertEqual(\n",
        "        add(7,17),\n",
        "        24,\n",
        "        \"Put some code inside the 'add' function so that it takes two parameters and returns their sum\"\n",
        "    )\n",
        "    self.assertEqual(\n",
        "        add(-7,-17),\n",
        "        -24,\n",
        "        \"Put some code inside the 'add' function so that it takes two parameters and returns their sum\"   \n",
        "    )\n",
        "  \n",
        "  def test_5_dataSubtract(self):\n",
        "    self.assertIs(\n",
        "        hasattr(sys.modules['__main__'], \"subtract\") and inspect.isfunction(subtract),\n",
        "        True,\n",
        "        \"Create a 'subtract' function which takes two arguments and subtracts the second from the first (Hint: use the 'def' keyword and look at what you did in your 'add' function\"\n",
        "    )\n",
        "\n",
        "    self.assertEqual(\n",
        "        subtract(10, 5),\n",
        "        5\n",
        "    )\n",
        "\n",
        "    self.assertEqual(\n",
        "        subtract(5, 10),\n",
        "        -5\n",
        "    )\n",
        "\n",
        "import  ipywidgets as widgets\n",
        "from IPython.display import display,clear_output\n",
        "button = widgets.Button(\n",
        "    description=\"Run Tests\",\n",
        "#    layout=widgets.Layout('description_width=initial')\n",
        "    )\n",
        "output = widgets.Output()\n",
        "\n",
        "def on_button_clicked(b):\n",
        "  # Display the message within the output widget.\n",
        "\n",
        "  # Turn off Standard Error Output\n",
        "  import os\n",
        "  import sys\n",
        "\n",
        "  #f = open(os.devnull, 'w')\n",
        "  #old_stderr = sys.stderr\n",
        "  #sys.stderr = f\n",
        "  \n",
        "  # Also, turn of Standard output\n",
        "\n",
        "  #g = open(os.devnull, \"w\")\n",
        "  #old_stdout = sys.stdout\n",
        "  #sys.stdout = g\n",
        "\n",
        "\n",
        "  !rm ./reports/* &>/dev/null\n",
        "\n",
        "  # Run the Unit Tests\n",
        "  \n",
        "  with output: \n",
        "    unittest.main(\n",
        "      argv=['ignored'],  \n",
        "      verbosity=0, \n",
        "      exit=False,\n",
        "      testRunner=HtmlTestRunner.HTMLTestRunner(\n",
        "        output='./reports/', \n",
        "        add_timestamp=False, \n",
        "        combine_reports=True, \n",
        "        open_in_browser=True\n",
        "      )\n",
        "    )\n",
        "  # Restore Stndard Error and Stsndard Output\n",
        "  #sys.stderr=old_stderr\n",
        "  #sys.stdout=old_stdout\n",
        "  #f.close()\n",
        "  #g.close()\n",
        "\n",
        "  # Clear the code cell output (in case we're running this more than once)\n",
        "  \n",
        "  clear_output()\n",
        "\n",
        "  # HTMLTestRunner puts the HTML output into a file in ./roports/\n",
        "  # Find that file using the \"glob\" library\n",
        "  import glob\n",
        "  report_files = glob.glob('./reports/TestResults*')\n",
        "  for report_file in report_files:\n",
        "    html = ''\n",
        "    with open( report_file, \"r\") as html_file:\n",
        "      html = html_file.read()\n",
        "\n",
        "    from IPython.core.display import display, HTML\n",
        "\n",
        "    display(HTML(html))\n",
        "\n",
        "\n",
        "button.on_click(on_button_clicked)\n",
        "display(button, output)\n",
        "\n",
        "\n",
        "\n"
      ],
      "execution_count": 19,
      "outputs": [
        {
          "output_type": "display_data",
          "data": {
            "application/vnd.jupyter.widget-view+json": {
              "model_id": "173f08cef42549e0a124c07775a4a6c9",
              "version_minor": 0,
              "version_major": 2
            },
            "text/plain": [
              "Button(description='Run Tests', style=ButtonStyle())"
            ]
          },
          "metadata": {
            "tags": []
          }
        },
        {
          "output_type": "display_data",
          "data": {
            "application/vnd.jupyter.widget-view+json": {
              "model_id": "e98f694a409f4573939aba0c641eb2cf",
              "version_minor": 0,
              "version_major": 2
            },
            "text/plain": [
              "Output()"
            ]
          },
          "metadata": {
            "tags": []
          }
        }
      ]
    }
  ]
}